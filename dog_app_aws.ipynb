{
 "cells": [
  {
   "cell_type": "code",
   "execution_count": null,
   "metadata": {},
   "outputs": [],
   "source": [
    "data_ok = True"
   ]
  },
  {
   "cell_type": "code",
   "execution_count": 1,
   "metadata": {},
   "outputs": [],
   "source": [
    "DOG_FOLDER = \"data/dog_images\"\n",
    "IMAGE_SIZE = 64\n",
    "BATCH_SIZE = 32\n",
    "INPUT_DIM = 3\n",
    "OUTPUT_DIM = 133\n",
    "CONV1_OUT_DIM = 8\n",
    "CONV2_OUT_DIM = 16\n",
    "CONV3_OUT_DIM = 32\n",
    "DROP_PROB = 0.5\n",
    "POOL_KERNEL_SIZE = 2\n",
    "CONV_KERNEL_SIZE = 3\n",
    "\n",
    "FLIP_PROB = 0.5\n",
    "ERASE_PROB = 0.5"
   ]
  },
  {
   "cell_type": "markdown",
   "metadata": {},
   "source": [
    "### Upload data to S3"
   ]
  },
  {
   "cell_type": "code",
   "execution_count": 25,
   "metadata": {},
   "outputs": [
    {
     "name": "stderr",
     "output_type": "stream",
     "text": [
      "pandas failed to import. Analytics features will be impaired or broken.\n"
     ]
    }
   ],
   "source": [
    "import sagemaker\n",
    "\n",
    "sagemaker_session = sagemaker.Session()\n",
    "\n",
    "bucket = sagemaker_session.default_bucket()\n",
    "prefix = 'dog_classification'\n",
    "\n",
    "# role = sagemaker.get_execution_role()\n",
    "role = \"arn:aws:iam::115635759328:role/service-role/AmazonSageMaker-ExecutionRole-20210927T084228\""
   ]
  },
  {
   "cell_type": "code",
   "execution_count": 26,
   "metadata": {},
   "outputs": [],
   "source": [
    "if not data_ok:\n",
    "    !aws s3 cp --recursive {DOG_FOLDER} s3://{bucket}/{prefix}/dog_images"
   ]
  },
  {
   "cell_type": "markdown",
   "metadata": {},
   "source": [
    "### Training the model"
   ]
  },
  {
   "cell_type": "code",
   "execution_count": 27,
   "metadata": {},
   "outputs": [],
   "source": [
    "from sagemaker.pytorch import PyTorch\n",
    "\n",
    "estimator_scratch = PyTorch(entry_point=\"main.py\",\n",
    "                            source_dir=\"src\",\n",
    "                            role=role,\n",
    "                            framework_version=\"1.4.0\",\n",
    "                            py_version = \"py3\",\n",
    "                            train_instance_count=1,\n",
    "                            train_instance_type=\"ml.p2.xlarge\",\n",
    "                            hyperparameters={\n",
    "                                \"image-size\": IMAGE_SIZE,\n",
    "                                \"batch-size\": BATCH_SIZE,\n",
    "                                \"epochs\": 3,\n",
    "                                \"input-dim\": INPUT_DIM,\n",
    "                                \"conv1-out-dim\": CONV1_OUT_DIM,\n",
    "                                \"conv2-out-dim\": CONV2_OUT_DIM,\n",
    "                                \"conv3-out-dim\": CONV3_OUT_DIM,\n",
    "                                \"conv-kernel-size\": CONV_KERNEL_SIZE,\n",
    "                                \"pool-kernel-size\": POOL_KERNEL_SIZE,\n",
    "                                \"drop-prob\": DROP_PROB,\n",
    "                                \"flip-prob\": FLIP_PROB,\n",
    "                                \"erase-prob\": ERASE_PROB,\n",
    "                                \"output-dim\": OUTPUT_DIM\n",
    "                            })"
   ]
  },
  {
   "cell_type": "code",
   "execution_count": 28,
   "metadata": {},
   "outputs": [],
   "source": [
    "inputs = {\n",
    "    'training': f\"s3://{bucket}/{prefix}/dog_images/train\",\n",
    "    'validation': f\"s3://{bucket}/{prefix}/dog_images/valid\",\n",
    "    'testing': f\"s3://{bucket}/{prefix}/dog_images/test\"\n",
    "    }"
   ]
  },
  {
   "cell_type": "code",
   "execution_count": 29,
   "metadata": {},
   "outputs": [
    {
     "name": "stderr",
     "output_type": "stream",
     "text": [
      "'create_image_uri' will be deprecated in favor of 'ImageURIProvider' class in SageMaker Python SDK v2.\n",
      "'s3_input' class will be renamed to 'TrainingInput' in SageMaker Python SDK v2.\n",
      "'s3_input' class will be renamed to 'TrainingInput' in SageMaker Python SDK v2.\n",
      "'s3_input' class will be renamed to 'TrainingInput' in SageMaker Python SDK v2.\n",
      "'create_image_uri' will be deprecated in favor of 'ImageURIProvider' class in SageMaker Python SDK v2.\n"
     ]
    },
    {
     "name": "stdout",
     "output_type": "stream",
     "text": [
      "2021-11-30 11:19:38 Starting - Starting the training job...\n",
      "2021-11-30 11:19:40 Starting - Launching requested ML instances......\n",
      "2021-11-30 11:21:05 Starting - Preparing the instances for training.........\n",
      "2021-11-30 11:22:46 Downloading - Downloading input data............\n",
      "2021-11-30 11:24:54 Training - Downloading the training image....\u001b[34mbash: cannot set terminal process group (-1): Inappropriate ioctl for device\u001b[0m\n",
      "\u001b[34mbash: no job control in this shell\u001b[0m\n",
      "\u001b[34m2021-11-30 11:25:43,514 sagemaker-containers INFO     Imported framework sagemaker_pytorch_container.training\u001b[0m\n",
      "\u001b[34m2021-11-30 11:25:43,545 sagemaker_pytorch_container.training INFO     Block until all host DNS lookups succeed.\u001b[0m\n",
      "\u001b[34m2021-11-30 11:25:43,550 sagemaker_pytorch_container.training INFO     Invoking user training script.\u001b[0m\n",
      "\u001b[34m2021-11-30 11:25:43,938 sagemaker-containers INFO     Module default_user_module_name does not provide a setup.py. \u001b[0m\n",
      "\u001b[34mGenerating setup.py\u001b[0m\n",
      "\u001b[34m2021-11-30 11:25:43,938 sagemaker-containers INFO     Generating setup.cfg\u001b[0m\n",
      "\u001b[34m2021-11-30 11:25:43,938 sagemaker-containers INFO     Generating MANIFEST.in\u001b[0m\n",
      "\u001b[34m2021-11-30 11:25:43,939 sagemaker-containers INFO     Installing module with the following command:\u001b[0m\n",
      "\u001b[34m/opt/conda/bin/python3.6 -m pip install . \u001b[0m\n",
      "\u001b[34mProcessing /tmp/tmpcp65f2hx/module_dir\u001b[0m\n",
      "\u001b[34mBuilding wheels for collected packages: default-user-module-name\n",
      "  Building wheel for default-user-module-name (setup.py): started\u001b[0m\n",
      "\u001b[34m  Building wheel for default-user-module-name (setup.py): finished with status 'done'\n",
      "  Created wheel for default-user-module-name: filename=default_user_module_name-1.0.0-py2.py3-none-any.whl size=11934 sha256=806d2207cfc6f809aaff3e13f361872b3c31dbc81e2be8858257e084bf23d12f\n",
      "  Stored in directory: /tmp/pip-ephem-wheel-cache-hfawvu95/wheels/e5/14/78/311fdc787d2a93320979b2f93e9df96e27ce8fc66bc1ab31e7\u001b[0m\n",
      "\u001b[34mSuccessfully built default-user-module-name\u001b[0m\n",
      "\u001b[34mInstalling collected packages: default-user-module-name\u001b[0m\n",
      "\u001b[34mSuccessfully installed default-user-module-name-1.0.0\u001b[0m\n",
      "\u001b[34m2021-11-30 11:25:47,140 sagemaker-containers INFO     Invoking user script\u001b[0m\n",
      "\u001b[34mTraining Env:\u001b[0m\n",
      "\u001b[34m{\n",
      "    \"additional_framework_parameters\": {},\n",
      "    \"channel_input_dirs\": {\n",
      "        \"testing\": \"/opt/ml/input/data/testing\",\n",
      "        \"training\": \"/opt/ml/input/data/training\",\n",
      "        \"validation\": \"/opt/ml/input/data/validation\"\n",
      "    },\n",
      "    \"current_host\": \"algo-1\",\n",
      "    \"framework_module\": \"sagemaker_pytorch_container.training:main\",\n",
      "    \"hosts\": [\n",
      "        \"algo-1\"\n",
      "    ],\n",
      "    \"hyperparameters\": {\n",
      "        \"conv3-out-dim\": 32,\n",
      "        \"input-dim\": 3,\n",
      "        \"conv-kernel-size\": 3,\n",
      "        \"conv1-out-dim\": 8,\n",
      "        \"hidden-dim\": 2048,\n",
      "        \"image-size\": 64,\n",
      "        \"conv2-out-dim\": 16,\n",
      "        \"batch-size\": 32,\n",
      "        \"drop-prob\": 0.5,\n",
      "        \"pool-kernel-size\": 2,\n",
      "        \"output-dim\": 133,\n",
      "        \"epochs\": 3\n",
      "    },\n",
      "    \"input_config_dir\": \"/opt/ml/input/config\",\n",
      "    \"input_data_config\": {\n",
      "        \"testing\": {\n",
      "            \"TrainingInputMode\": \"File\",\n",
      "            \"S3DistributionType\": \"FullyReplicated\",\n",
      "            \"RecordWrapperType\": \"None\"\n",
      "        },\n",
      "        \"training\": {\n",
      "            \"TrainingInputMode\": \"File\",\n",
      "            \"S3DistributionType\": \"FullyReplicated\",\n",
      "            \"RecordWrapperType\": \"None\"\n",
      "        },\n",
      "        \"validation\": {\n",
      "            \"TrainingInputMode\": \"File\",\n",
      "            \"S3DistributionType\": \"FullyReplicated\",\n",
      "            \"RecordWrapperType\": \"None\"\n",
      "        }\n",
      "    },\n",
      "    \"input_dir\": \"/opt/ml/input\",\n",
      "    \"is_master\": true,\n",
      "    \"job_name\": \"pytorch-training-2021-11-30-11-19-33-482\",\n",
      "    \"log_level\": 20,\n",
      "    \"master_hostname\": \"algo-1\",\n",
      "    \"model_dir\": \"/opt/ml/model\",\n",
      "    \"module_dir\": \"s3://sagemaker-us-east-1-115635759328/pytorch-training-2021-11-30-11-19-33-482/source/sourcedir.tar.gz\",\n",
      "    \"module_name\": \"main\",\n",
      "    \"network_interface_name\": \"eth0\",\n",
      "    \"num_cpus\": 4,\n",
      "    \"num_gpus\": 1,\n",
      "    \"output_data_dir\": \"/opt/ml/output/data\",\n",
      "    \"output_dir\": \"/opt/ml/output\",\n",
      "    \"output_intermediate_dir\": \"/opt/ml/output/intermediate\",\n",
      "    \"resource_config\": {\n",
      "        \"current_host\": \"algo-1\",\n",
      "        \"hosts\": [\n",
      "            \"algo-1\"\n",
      "        ],\n",
      "        \"network_interface_name\": \"eth0\"\n",
      "    },\n",
      "    \"user_entry_point\": \"main.py\"\u001b[0m\n",
      "\u001b[34m}\u001b[0m\n",
      "\u001b[34mEnvironment variables:\u001b[0m\n",
      "\u001b[34mSM_HOSTS=[\"algo-1\"]\u001b[0m\n",
      "\u001b[34mSM_NETWORK_INTERFACE_NAME=eth0\u001b[0m\n",
      "\u001b[34mSM_HPS={\"batch-size\":32,\"conv-kernel-size\":3,\"conv1-out-dim\":8,\"conv2-out-dim\":16,\"conv3-out-dim\":32,\"drop-prob\":0.5,\"epochs\":3,\"hidden-dim\":2048,\"image-size\":64,\"input-dim\":3,\"output-dim\":133,\"pool-kernel-size\":2}\u001b[0m\n",
      "\u001b[34mSM_USER_ENTRY_POINT=main.py\u001b[0m\n",
      "\u001b[34mSM_FRAMEWORK_PARAMS={}\u001b[0m\n",
      "\u001b[34mSM_RESOURCE_CONFIG={\"current_host\":\"algo-1\",\"hosts\":[\"algo-1\"],\"network_interface_name\":\"eth0\"}\u001b[0m\n",
      "\u001b[34mSM_INPUT_DATA_CONFIG={\"testing\":{\"RecordWrapperType\":\"None\",\"S3DistributionType\":\"FullyReplicated\",\"TrainingInputMode\":\"File\"},\"training\":{\"RecordWrapperType\":\"None\",\"S3DistributionType\":\"FullyReplicated\",\"TrainingInputMode\":\"File\"},\"validation\":{\"RecordWrapperType\":\"None\",\"S3DistributionType\":\"FullyReplicated\",\"TrainingInputMode\":\"File\"}}\u001b[0m\n",
      "\u001b[34mSM_OUTPUT_DATA_DIR=/opt/ml/output/data\u001b[0m\n",
      "\u001b[34mSM_CHANNELS=[\"testing\",\"training\",\"validation\"]\u001b[0m\n",
      "\u001b[34mSM_CURRENT_HOST=algo-1\u001b[0m\n",
      "\u001b[34mSM_MODULE_NAME=main\u001b[0m\n",
      "\u001b[34mSM_LOG_LEVEL=20\u001b[0m\n",
      "\u001b[34mSM_FRAMEWORK_MODULE=sagemaker_pytorch_container.training:main\u001b[0m\n",
      "\u001b[34mSM_INPUT_DIR=/opt/ml/input\u001b[0m\n",
      "\u001b[34mSM_INPUT_CONFIG_DIR=/opt/ml/input/config\u001b[0m\n",
      "\u001b[34mSM_OUTPUT_DIR=/opt/ml/output\u001b[0m\n",
      "\u001b[34mSM_NUM_CPUS=4\u001b[0m\n",
      "\u001b[34mSM_NUM_GPUS=1\u001b[0m\n",
      "\u001b[34mSM_MODEL_DIR=/opt/ml/model\u001b[0m\n",
      "\u001b[34mSM_MODULE_DIR=s3://sagemaker-us-east-1-115635759328/pytorch-training-2021-11-30-11-19-33-482/source/sourcedir.tar.gz\u001b[0m\n",
      "\u001b[34mSM_TRAINING_ENV={\"additional_framework_parameters\":{},\"channel_input_dirs\":{\"testing\":\"/opt/ml/input/data/testing\",\"training\":\"/opt/ml/input/data/training\",\"validation\":\"/opt/ml/input/data/validation\"},\"current_host\":\"algo-1\",\"framework_module\":\"sagemaker_pytorch_container.training:main\",\"hosts\":[\"algo-1\"],\"hyperparameters\":{\"batch-size\":32,\"conv-kernel-size\":3,\"conv1-out-dim\":8,\"conv2-out-dim\":16,\"conv3-out-dim\":32,\"drop-prob\":0.5,\"epochs\":3,\"hidden-dim\":2048,\"image-size\":64,\"input-dim\":3,\"output-dim\":133,\"pool-kernel-size\":2},\"input_config_dir\":\"/opt/ml/input/config\",\"input_data_config\":{\"testing\":{\"RecordWrapperType\":\"None\",\"S3DistributionType\":\"FullyReplicated\",\"TrainingInputMode\":\"File\"},\"training\":{\"RecordWrapperType\":\"None\",\"S3DistributionType\":\"FullyReplicated\",\"TrainingInputMode\":\"File\"},\"validation\":{\"RecordWrapperType\":\"None\",\"S3DistributionType\":\"FullyReplicated\",\"TrainingInputMode\":\"File\"}},\"input_dir\":\"/opt/ml/input\",\"is_master\":true,\"job_name\":\"pytorch-training-2021-11-30-11-19-33-482\",\"log_level\":20,\"master_hostname\":\"algo-1\",\"model_dir\":\"/opt/ml/model\",\"module_dir\":\"s3://sagemaker-us-east-1-115635759328/pytorch-training-2021-11-30-11-19-33-482/source/sourcedir.tar.gz\",\"module_name\":\"main\",\"network_interface_name\":\"eth0\",\"num_cpus\":4,\"num_gpus\":1,\"output_data_dir\":\"/opt/ml/output/data\",\"output_dir\":\"/opt/ml/output\",\"output_intermediate_dir\":\"/opt/ml/output/intermediate\",\"resource_config\":{\"current_host\":\"algo-1\",\"hosts\":[\"algo-1\"],\"network_interface_name\":\"eth0\"},\"user_entry_point\":\"main.py\"}\u001b[0m\n",
      "\u001b[34mSM_USER_ARGS=[\"--batch-size\",\"32\",\"--conv-kernel-size\",\"3\",\"--conv1-out-dim\",\"8\",\"--conv2-out-dim\",\"16\",\"--conv3-out-dim\",\"32\",\"--drop-prob\",\"0.5\",\"--epochs\",\"3\",\"--hidden-dim\",\"2048\",\"--image-size\",\"64\",\"--input-dim\",\"3\",\"--output-dim\",\"133\",\"--pool-kernel-size\",\"2\"]\u001b[0m\n",
      "\u001b[34mSM_OUTPUT_INTERMEDIATE_DIR=/opt/ml/output/intermediate\u001b[0m\n",
      "\u001b[34mSM_CHANNEL_TESTING=/opt/ml/input/data/testing\u001b[0m\n",
      "\u001b[34mSM_CHANNEL_TRAINING=/opt/ml/input/data/training\u001b[0m\n",
      "\u001b[34mSM_CHANNEL_VALIDATION=/opt/ml/input/data/validation\u001b[0m\n",
      "\u001b[34mSM_HP_CONV3-OUT-DIM=32\u001b[0m\n",
      "\u001b[34mSM_HP_INPUT-DIM=3\u001b[0m\n",
      "\u001b[34mSM_HP_CONV-KERNEL-SIZE=3\u001b[0m\n",
      "\u001b[34mSM_HP_CONV1-OUT-DIM=8\u001b[0m\n",
      "\u001b[34mSM_HP_HIDDEN-DIM=2048\u001b[0m\n",
      "\u001b[34mSM_HP_IMAGE-SIZE=64\u001b[0m\n",
      "\u001b[34mSM_HP_CONV2-OUT-DIM=16\u001b[0m\n",
      "\u001b[34mSM_HP_BATCH-SIZE=32\u001b[0m\n",
      "\u001b[34mSM_HP_DROP-PROB=0.5\u001b[0m\n",
      "\u001b[34mSM_HP_POOL-KERNEL-SIZE=2\u001b[0m\n",
      "\u001b[34mSM_HP_OUTPUT-DIM=133\u001b[0m\n",
      "\u001b[34mSM_HP_EPOCHS=3\u001b[0m\n",
      "\u001b[34mPYTHONPATH=/opt/ml/code:/opt/conda/bin:/opt/conda/lib/python36.zip:/opt/conda/lib/python3.6:/opt/conda/lib/python3.6/lib-dynload:/opt/conda/lib/python3.6/site-packages\u001b[0m\n",
      "\u001b[34mInvoking script with the following command:\u001b[0m\n",
      "\u001b[34m/opt/conda/bin/python3.6 main.py --batch-size 32 --conv-kernel-size 3 --conv1-out-dim 8 --conv2-out-dim 16 --conv3-out-dim 32 --drop-prob 0.5 --epochs 3 --hidden-dim 2048 --image-size 64 --input-dim 3 --output-dim 133 --pool-kernel-size 2\u001b[0m\n",
      "\u001b[34mUsing device cuda.\u001b[0m\n",
      "\u001b[34mGet train data loader.\u001b[0m\n",
      "\u001b[34mModel loaded\u001b[0m\n",
      "\u001b[34m[2021-11-30 11:25:51.931 algo-1:45 INFO json_config.py:90] Creating hook from json_config at /opt/ml/input/config/debughookconfig.json.\u001b[0m\n",
      "\u001b[34m[2021-11-30 11:25:51.932 algo-1:45 INFO hook.py:192] tensorboard_dir has not been set for the hook. SMDebug will not be exporting tensorboard summaries.\u001b[0m\n",
      "\u001b[34m[2021-11-30 11:25:51.932 algo-1:45 INFO hook.py:237] Saving to /opt/ml/output/tensors\u001b[0m\n",
      "\u001b[34m[2021-11-30 11:25:51.932 algo-1:45 INFO state_store.py:67] The checkpoint config file /opt/ml/input/config/checkpointconfig.json does not exist.\u001b[0m\n",
      "\u001b[34m[2021-11-30 11:25:51.950 algo-1:45 INFO hook.py:382] Monitoring the collections: losses\u001b[0m\n",
      "\u001b[34m[2021-11-30 11:25:51.950 algo-1:45 INFO hook.py:443] Hook is writing from the hook with pid: 45\u001b[0m\n",
      "\n",
      "2021-11-30 11:25:42 Training - Training image download completed. Training in progress.\u001b[34m[9.938693633246367e-05]\u001b[0m\n",
      "\u001b[34mEpoch: 1 #011Training Loss: 6.346291 #011Validation Loss: 4.949655\u001b[0m\n",
      "\u001b[34m[4.590691730535784e-05]\u001b[0m\n",
      "\u001b[34mEpoch: 2 #011Training Loss: 5.579381 #011Validation Loss: 4.883779\u001b[0m\n",
      "\u001b[34m[1.6808698437356323e-09]\u001b[0m\n",
      "\u001b[34mEpoch: 3 #011Training Loss: 5.107686 #011Validation Loss: 4.837110\u001b[0m\n",
      "\u001b[34mTotal training time: 0 h, 4 min, 36 sec\u001b[0m\n",
      "\u001b[34m2021-11-30 11:30:28,029 sagemaker-containers INFO     Reporting training SUCCESS\u001b[0m\n",
      "\n",
      "2021-11-30 11:30:44 Uploading - Uploading generated training model\n",
      "2021-11-30 11:30:52 Completed - Training job completed\n",
      "Training seconds: 486\n",
      "Billable seconds: 486\n"
     ]
    }
   ],
   "source": [
    "estimator_scratch.fit(inputs)"
   ]
  },
  {
   "cell_type": "markdown",
   "metadata": {},
   "source": []
  }
 ],
 "metadata": {
  "interpreter": {
   "hash": "bb67ca023b4d0008271468fa61ba8888cd82052f304bf48e5b1739039493b86b"
  },
  "kernelspec": {
   "display_name": "conda_pytorch_p36",
   "language": "python",
   "name": "python3"
  },
  "language_info": {
   "codemirror_mode": {
    "name": "ipython",
    "version": 3
   },
   "file_extension": ".py",
   "mimetype": "text/x-python",
   "name": "python",
   "nbconvert_exporter": "python",
   "pygments_lexer": "ipython3",
   "version": "3.6.13"
  }
 },
 "nbformat": 4,
 "nbformat_minor": 2
}
